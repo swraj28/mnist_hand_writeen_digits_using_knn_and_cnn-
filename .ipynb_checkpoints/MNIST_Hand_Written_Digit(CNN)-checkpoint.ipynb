{
 "cells": [
  {
   "cell_type": "code",
   "execution_count": 1,
   "metadata": {
    "id": "o10w58_e1GZJ"
   },
   "outputs": [],
   "source": [
    "import keras"
   ]
  },
  {
   "cell_type": "code",
   "execution_count": 2,
   "metadata": {
    "id": "OAuGwOcW1goA"
   },
   "outputs": [],
   "source": [
    "from keras.models import Sequential\n",
    "from keras.layers import Conv2D,MaxPooling2D,Flatten,Dense"
   ]
  },
  {
   "cell_type": "code",
   "execution_count": 3,
   "metadata": {
    "id": "MZ149ktJq41W"
   },
   "outputs": [],
   "source": [
    "import tensorflow as tf"
   ]
  },
  {
   "cell_type": "code",
   "execution_count": 4,
   "metadata": {
    "colab": {
     "base_uri": "https://localhost:8080/"
    },
    "id": "hDhpEzJS1nqQ",
    "outputId": "1916060d-2324-4640-9191-19cbb66aaf26"
   },
   "outputs": [
    {
     "name": "stdout",
     "output_type": "stream",
     "text": [
      "Downloading data from https://storage.googleapis.com/tensorflow/tf-keras-datasets/mnist.npz\n",
      "11493376/11490434 [==============================] - 0s 0us/step\n",
      "11501568/11490434 [==============================] - 0s 0us/step\n"
     ]
    }
   ],
   "source": [
    "# Load MNIST dataset\n",
    "dataset = tf.keras.datasets.mnist.load_data()"
   ]
  },
  {
   "cell_type": "code",
   "execution_count": 5,
   "metadata": {
    "colab": {
     "base_uri": "https://localhost:8080/"
    },
    "id": "MZucpctp1rWL",
    "outputId": "ba0e71c2-c77c-4414-d6eb-e1751f725f5e"
   },
   "outputs": [
    {
     "data": {
      "text/plain": [
       "tuple"
      ]
     },
     "execution_count": 5,
     "metadata": {},
     "output_type": "execute_result"
    }
   ],
   "source": [
    "# NOt a DataFrame, instead a TUPLE\n",
    "type(dataset)"
   ]
  },
  {
   "cell_type": "code",
   "execution_count": 6,
   "metadata": {
    "colab": {
     "base_uri": "https://localhost:8080/"
    },
    "id": "aRabTBPH1v9p",
    "outputId": "352de7d9-472e-4c40-98b3-2292d6be4783"
   },
   "outputs": [
    {
     "name": "stdout",
     "output_type": "stream",
     "text": [
      "60000\n",
      "60000\n",
      "10000\n",
      "10000\n"
     ]
    }
   ],
   "source": [
    "# 60000 Training images, 10000 test images\n",
    "print(len(dataset[0][0]))\n",
    "print(len(dataset[0][1]))\n",
    "print(len(dataset[1][0]))\n",
    "print(len(dataset[1][1]))"
   ]
  },
  {
   "cell_type": "code",
   "execution_count": 7,
   "metadata": {
    "id": "1_k-YTGL2KyA"
   },
   "outputs": [],
   "source": [
    "import numpy as np"
   ]
  },
  {
   "cell_type": "code",
   "execution_count": 8,
   "metadata": {
    "id": "PSw1PYMu2RgK"
   },
   "outputs": [],
   "source": [
    "# Unpacking tuples into var's\n",
    "(X_train,y_train), (X_test, y_test)  = dataset"
   ]
  },
  {
   "cell_type": "code",
   "execution_count": 9,
   "metadata": {
    "colab": {
     "base_uri": "https://localhost:8080/"
    },
    "id": "9FzHbDW32aS5",
    "outputId": "c0988a83-819a-404e-ea39-da919e02a477"
   },
   "outputs": [
    {
     "name": "stdout",
     "output_type": "stream",
     "text": [
      "(60000, 28, 28)\n",
      "(60000,)\n"
     ]
    }
   ],
   "source": [
    "# 28x28 images\n",
    "print(X_train.shape)\n",
    "print(y_train.shape)"
   ]
  },
  {
   "cell_type": "code",
   "execution_count": 9,
   "metadata": {
    "id": "siF4FjWzCkDC"
   },
   "outputs": [],
   "source": []
  },
  {
   "cell_type": "code",
   "execution_count": 10,
   "metadata": {
    "colab": {
     "base_uri": "https://localhost:8080/"
    },
    "id": "Rh5h_oGD4GTo",
    "outputId": "f6013688-1c46-47b2-9c05-7b4ab33fe66a"
   },
   "outputs": [
    {
     "name": "stdout",
     "output_type": "stream",
     "text": [
      "(10000, 28, 28)\n",
      "(10000,)\n"
     ]
    }
   ],
   "source": [
    "print(X_test.shape)\n",
    "print(y_test.shape)"
   ]
  },
  {
   "cell_type": "code",
   "execution_count": 11,
   "metadata": {
    "id": "tedAQQtr4JpW"
   },
   "outputs": [],
   "source": [
    "import matplotlib.pyplot as plt\n",
    "%matplotlib inline"
   ]
  },
  {
   "cell_type": "code",
   "execution_count": 12,
   "metadata": {
    "colab": {
     "base_uri": "https://localhost:8080/"
    },
    "id": "eoydj0hT4MIS",
    "outputId": "a4e2554c-96ef-4cf1-e854-8175135f90f1"
   },
   "outputs": [
    {
     "name": "stdout",
     "output_type": "stream",
     "text": [
      "0\n"
     ]
    }
   ],
   "source": [
    "print(y_train[1000])"
   ]
  },
  {
   "cell_type": "code",
   "execution_count": 13,
   "metadata": {
    "colab": {
     "base_uri": "https://localhost:8080/"
    },
    "id": "xK6Vf-m74OdK",
    "outputId": "c0005469-aec7-437e-d1af-a4e9d9cd00b2"
   },
   "outputs": [
    {
     "data": {
      "text/plain": [
       "(28, 28)"
      ]
     },
     "execution_count": 13,
     "metadata": {},
     "output_type": "execute_result"
    }
   ],
   "source": [
    "X_train[1000].shape"
   ]
  },
  {
   "cell_type": "code",
   "execution_count": 14,
   "metadata": {
    "colab": {
     "base_uri": "https://localhost:8080/"
    },
    "id": "ShvQFFlR4ybJ",
    "outputId": "8dd6383d-96a1-47f1-c077-5821d929a4df"
   },
   "outputs": [
    {
     "name": "stdout",
     "output_type": "stream",
     "text": [
      "[[  0   0   0   0   0   0   0   0   0   0   0   0   0   0   0   0   0   0\n",
      "    0   0   0   0   0   0   0   0   0   0]\n",
      " [  0   0   0   0   0   0   0   0   0   0   0   0   0   0   0   0   0   0\n",
      "    0   0   0   0   0   0   0   0   0   0]\n",
      " [  0   0   0   0   0   0   0   0   0   0   0   0   0   0   0   0   0   0\n",
      "    0   0   0   0   0   0   0   0   0   0]\n",
      " [  0   0   0   0   0   0   0   0   0   0   0   0   0   0   0   0   0   0\n",
      "    0   0   0   0   0   0   0   0   0   0]\n",
      " [  0   0   0   0   0   0   0   0   0   0   0   0   0   0   0   0   0   0\n",
      "    0   0   0   0   0   0   0   0   0   0]\n",
      " [  0   0   0   0   0   0   0   0   0   0   0   0   0   0  36 146 254 255\n",
      "  251  95   6   0   0   0   0   0   0   0]\n",
      " [  0   0   0   0   0   0   0   0   0   0   0   0   3  97 234 254 254 232\n",
      "  254 254  35   0   0   0   0   0   0   0]\n",
      " [  0   0   0   0   0   0   0   0   0   0   0  89 140 254 254 174  67  33\n",
      "  200 254 190   0   0   0   0   0   0   0]\n",
      " [  0   0   0   0   0   0   0   0   0   0 108 253 254 235  51   1   0   0\n",
      "   12 254 253  56   0   0   0   0   0   0]\n",
      " [  0   0   0   0   0   0   0   0   0  12 216 254 244  55   0   0   0   0\n",
      "    6 213 254  57   0   0   0   0   0   0]\n",
      " [  0   0   0   0   0   0   0   0   0  25 254 254 132   0   0   0   0   0\n",
      "    0 168 254  57   0   0   0   0   0   0]\n",
      " [  0   0   0   0   0   0   0   0   0  45 254 243  34   0   0   0   0   0\n",
      "    0 168 254  57   0   0   0   0   0   0]\n",
      " [  0   0   0   0   0   0   0   0   0 128 254 157   0   0   0   0   0   0\n",
      "    0 168 254  57   0   0   0   0   0   0]\n",
      " [  0   0   0   0   0   0   0   0  19 228 254 105   0   0   0   0   0   0\n",
      "    7 228 254  57   0   0   0   0   0   0]\n",
      " [  0   0   0   0   0   0   0   0  58 254 254  87   0   0   0   0   0   0\n",
      "   10 254 246  47   0   0   0   0   0   0]\n",
      " [  0   0   0   0   0   0   0   0  58 254 254   9   0   0   0   0   0   0\n",
      "   10 254 210   0   0   0   0   0   0   0]\n",
      " [  0   0   0   0   0   0   0   0  58 254 254   9   0   0   0   0   0   0\n",
      "  105 254  91   0   0   0   0   0   0   0]\n",
      " [  0   0   0   0   0   0   0   0   5 219 254   9   0   0   0   0   0  24\n",
      "  230 254  24   0   0   0   0   0   0   0]\n",
      " [  0   0   0   0   0   0   0   0   0 216 254   9   0   0   0   0   0  84\n",
      "  254 251  23   0   0   0   0   0   0   0]\n",
      " [  0   0   0   0   0   0   0   0   0 216 254  36   0   0   0   0  22 208\n",
      "  251  94   0   0   0   0   0   0   0   0]\n",
      " [  0   0   0   0   0   0   0   0   0 129 254 120   0   0   0   3 140 254\n",
      "  229   0   0   0   0   0   0   0   0   0]\n",
      " [  0   0   0   0   0   0   0   0   0  83 254 222  17   0   0  91 254 236\n",
      "   53   0   0   0   0   0   0   0   0   0]\n",
      " [  0   0   0   0   0   0   0   0   0  18 235 254 134  21 119 237 254 124\n",
      "    0   0   0   0   0   0   0   0   0   0]\n",
      " [  0   0   0   0   0   0   0   0   0   0  53 249 254 234 252 254 172   3\n",
      "    0   0   0   0   0   0   0   0   0   0]\n",
      " [  0   0   0   0   0   0   0   0   0   0   0 116 237 254 254 133  20   0\n",
      "    0   0   0   0   0   0   0   0   0   0]\n",
      " [  0   0   0   0   0   0   0   0   0   0   0   0   0   0   0   0   0   0\n",
      "    0   0   0   0   0   0   0   0   0   0]\n",
      " [  0   0   0   0   0   0   0   0   0   0   0   0   0   0   0   0   0   0\n",
      "    0   0   0   0   0   0   0   0   0   0]\n",
      " [  0   0   0   0   0   0   0   0   0   0   0   0   0   0   0   0   0   0\n",
      "    0   0   0   0   0   0   0   0   0   0]]\n"
     ]
    }
   ],
   "source": [
    "# Sample image into matrix\n",
    "print(X_train[1000])"
   ]
  },
  {
   "cell_type": "code",
   "execution_count": 15,
   "metadata": {
    "colab": {
     "base_uri": "https://localhost:8080/",
     "height": 265
    },
    "id": "dDXMqzym41LN",
    "outputId": "de22a049-bda6-45dd-9870-9b5735126833"
   },
   "outputs": [
    {
     "data": {
      "image/png": "[encoded data removed]",
      "text/plain": [
       "<Figure size 432x288 with 1 Axes>"
      ]
     },
     "metadata": {
      "needs_background": "light"
     },
     "output_type": "display_data"
    }
   ],
   "source": [
    "plt.imshow(X_train[1000], cmap=\"gray\")\n",
    "plt.show()"
   ]
  },
  {
   "cell_type": "code",
   "execution_count": 16,
   "metadata": {
    "id": "caX0XLpF47ED"
   },
   "outputs": [],
   "source": [
    "# Since Keras accept images in 4D, and it is greyscale image so  additional 1D is added  which is \"1\" \n",
    "X_train = X_train.reshape(X_train.shape[0],28,28,1)"
   ]
  },
  {
   "cell_type": "code",
   "execution_count": 17,
   "metadata": {
    "colab": {
     "base_uri": "https://localhost:8080/"
    },
    "id": "7-PrXVo35M_9",
    "outputId": "03255ddb-fde3-4052-ecb0-8fb4899420c2"
   },
   "outputs": [
    {
     "data": {
      "text/plain": [
       "(60000, 28, 28, 1)"
      ]
     },
     "execution_count": 17,
     "metadata": {},
     "output_type": "execute_result"
    }
   ],
   "source": [
    "X_train.shape"
   ]
  },
  {
   "cell_type": "code",
   "execution_count": 18,
   "metadata": {
    "colab": {
     "base_uri": "https://localhost:8080/"
    },
    "id": "hqrlysSQ5Pd2",
    "outputId": "697b61c0-2040-42aa-80b0-c9d787aa7217"
   },
   "outputs": [
    {
     "data": {
      "text/plain": [
       "(10000, 28, 28, 1)"
      ]
     },
     "execution_count": 18,
     "metadata": {},
     "output_type": "execute_result"
    }
   ],
   "source": [
    "X_test = X_test.reshape(X_test.shape[0],28,28,1)\n",
    "X_test.shape"
   ]
  },
  {
   "cell_type": "code",
   "execution_count": 19,
   "metadata": {
    "id": "85l2CUuq5Rqt"
   },
   "outputs": [],
   "source": [
    "# Converting int to float.\n",
    "X_train = X_train.astype('float32')\n",
    "X_test = X_test.astype('float32')"
   ]
  },
  {
   "cell_type": "code",
   "execution_count": 20,
   "metadata": {
    "colab": {
     "base_uri": "https://localhost:8080/"
    },
    "id": "92Il3RAk5Uo4",
    "outputId": "ad543766-9429-4840-9c60-dc5983cd65b2"
   },
   "outputs": [
    {
     "data": {
      "text/plain": [
       "207.0"
      ]
     },
     "execution_count": 20,
     "metadata": {},
     "output_type": "execute_result"
    }
   ],
   "source": [
    "X_train[100][10][10][0]"
   ]
  },
  {
   "cell_type": "code",
   "execution_count": 21,
   "metadata": {
    "id": "CNv25n_a5h8p"
   },
   "outputs": [],
   "source": [
    "# Normalisation Step. values are now between (0 to 1)\n",
    "X_train /= 255\n",
    "X_test /= 255"
   ]
  },
  {
   "cell_type": "code",
   "execution_count": 22,
   "metadata": {
    "colab": {
     "base_uri": "https://localhost:8080/"
    },
    "id": "a-GpLd4v5lcl",
    "outputId": "a635f660-14ea-4e97-ac62-53117b7060bf"
   },
   "outputs": [
    {
     "data": {
      "text/plain": [
       "0.8117647"
      ]
     },
     "execution_count": 22,
     "metadata": {},
     "output_type": "execute_result"
    }
   ],
   "source": [
    "X_train[100][10][10][0]"
   ]
  },
  {
   "cell_type": "code",
   "execution_count": 22,
   "metadata": {
    "id": "o55SB4WOAgTd"
   },
   "outputs": [],
   "source": []
  },
  {
   "cell_type": "markdown",
   "metadata": {
    "id": "oQC_zO0AAhyI"
   },
   "source": [
    "### Creating Validation Set"
   ]
  },
  {
   "cell_type": "code",
   "execution_count": 23,
   "metadata": {
    "colab": {
     "base_uri": "https://localhost:8080/"
    },
    "id": "pgdok580AgtT",
    "outputId": "1c118fad-d4dd-4960-c221-f08fada5622e"
   },
   "outputs": [
    {
     "name": "stdout",
     "output_type": "stream",
     "text": [
      "(10000, 28, 28, 1)\n",
      "(10000,)\n"
     ]
    }
   ],
   "source": [
    "val_X=X_train[50000:,:,:,:]\n",
    "val_y=y_train[50000:60000]\n",
    "print(val_X.shape)\n",
    "print(val_y.shape)"
   ]
  },
  {
   "cell_type": "code",
   "execution_count": 24,
   "metadata": {
    "colab": {
     "base_uri": "https://localhost:8080/",
     "height": 265
    },
    "id": "7bT5UCI9B1CB",
    "outputId": "765f612a-fa75-47b7-e4a6-eff17b33b76d"
   },
   "outputs": [
    {
     "data": {
      "image/png": "[encoded data removed]",
      "text/plain": [
       "<Figure size 432x288 with 1 Axes>"
      ]
     },
     "metadata": {
      "needs_background": "light"
     },
     "output_type": "display_data"
    }
   ],
   "source": [
    "plt.imshow(val_X[1000].reshape((28,28)), cmap=\"gray\")\n",
    "plt.show()"
   ]
  },
  {
   "cell_type": "code",
   "execution_count": 25,
   "metadata": {
    "colab": {
     "base_uri": "https://localhost:8080/"
    },
    "id": "j2wW5gI_CaqA",
    "outputId": "297a9918-2b08-4b17-bb0d-a3f54fe5125f"
   },
   "outputs": [
    {
     "name": "stdout",
     "output_type": "stream",
     "text": [
      "7\n"
     ]
    }
   ],
   "source": [
    "print(val_y[1000])"
   ]
  },
  {
   "cell_type": "code",
   "execution_count": 26,
   "metadata": {
    "colab": {
     "base_uri": "https://localhost:8080/"
    },
    "id": "fhy9CSvACLxZ",
    "outputId": "e482d774-2961-4411-e0f5-d2cfd955ebcb"
   },
   "outputs": [
    {
     "data": {
      "text/plain": [
       "(10000, 28, 28, 1)"
      ]
     },
     "execution_count": 26,
     "metadata": {},
     "output_type": "execute_result"
    }
   ],
   "source": [
    "val_X.shape"
   ]
  },
  {
   "cell_type": "code",
   "execution_count": 27,
   "metadata": {
    "colab": {
     "base_uri": "https://localhost:8080/"
    },
    "id": "freZCytpCwFh",
    "outputId": "0d8e038b-0de5-4896-befe-9eb2d8d8993f"
   },
   "outputs": [
    {
     "name": "stdout",
     "output_type": "stream",
     "text": [
      "(50000, 28, 28, 1)\n",
      "(50000,)\n"
     ]
    }
   ],
   "source": [
    "X_new_train=X_train[:50000,:,:,:]\n",
    "y_new_train=y_train[:50000]\n",
    "print(X_new_train.shape)\n",
    "print(y_new_train.shape)"
   ]
  },
  {
   "cell_type": "code",
   "execution_count": null,
   "metadata": {
    "id": "Jo8IIbc2Cwec"
   },
   "outputs": [],
   "source": []
  },
  {
   "cell_type": "code",
   "execution_count": 30,
   "metadata": {
    "id": "7-ar6jnj5nuv"
   },
   "outputs": [],
   "source": [
    "# One Hot Encoding\n",
    "# from keras.utils import to_categorical\n",
    "from tensorflow.keras.utils import to_categorical"
   ]
  },
  {
   "cell_type": "code",
   "execution_count": 31,
   "metadata": {
    "id": "e3-B9nrT9RRd"
   },
   "outputs": [],
   "source": [
    "y_new_train=to_categorical(y_new_train)\n",
    "val_y=to_categorical(val_y)"
   ]
  },
  {
   "cell_type": "code",
   "execution_count": 32,
   "metadata": {
    "colab": {
     "base_uri": "https://localhost:8080/"
    },
    "id": "PvYaCAsf9RiF",
    "outputId": "63af7cc6-b4cd-443b-8a42-bb2b7fc26066"
   },
   "outputs": [
    {
     "name": "stdout",
     "output_type": "stream",
     "text": [
      "(50000, 10)\n",
      "(10000, 10)\n"
     ]
    }
   ],
   "source": [
    "print(y_new_train.shape) # New train set\n",
    "print(val_y.shape)  # validation set"
   ]
  },
  {
   "cell_type": "code",
   "execution_count": null,
   "metadata": {
    "id": "zBJwUYFi6mv3"
   },
   "outputs": [],
   "source": []
  },
  {
   "cell_type": "markdown",
   "metadata": {
    "id": "41B0pOLMEAwr"
   },
   "source": [
    "### Building The Model"
   ]
  },
  {
   "cell_type": "code",
   "execution_count": 33,
   "metadata": {
    "id": "UPrU0THSAARD"
   },
   "outputs": [],
   "source": [
    "from keras.layers import *\n",
    "from keras.models import Sequential"
   ]
  },
  {
   "cell_type": "code",
   "execution_count": 34,
   "metadata": {
    "id": "9n3uYGUcEFeQ"
   },
   "outputs": [],
   "source": [
    "# define cnn model\n",
    "classifier = Sequential()"
   ]
  },
  {
   "cell_type": "code",
   "execution_count": 35,
   "metadata": {
    "colab": {
     "base_uri": "https://localhost:8080/"
    },
    "id": "vQB3H0PgESdq",
    "outputId": "1c125036-57d8-432f-fbe0-125226aab7d1"
   },
   "outputs": [
    {
     "name": "stdout",
     "output_type": "stream",
     "text": [
      "Model: \"sequential\"\n",
      "_________________________________________________________________\n",
      "Layer (type)                 Output Shape              Param #   \n",
      "=================================================================\n",
      "conv2d (Conv2D)              (None, 26, 26, 32)        320       \n",
      "_________________________________________________________________\n",
      "max_pooling2d (MaxPooling2D) (None, 13, 13, 32)        0         \n",
      "_________________________________________________________________\n",
      "conv2d_1 (Conv2D)            (None, 11, 11, 64)        18496     \n",
      "_________________________________________________________________\n",
      "max_pooling2d_1 (MaxPooling2 (None, 5, 5, 64)          0         \n",
      "_________________________________________________________________\n",
      "conv2d_2 (Conv2D)            (None, 3, 3, 64)          36928     \n",
      "_________________________________________________________________\n",
      "flatten (Flatten)            (None, 576)               0         \n",
      "_________________________________________________________________\n",
      "dense (Dense)                (None, 64)                36928     \n",
      "_________________________________________________________________\n",
      "dense_1 (Dense)              (None, 10)                650       \n",
      "=================================================================\n",
      "Total params: 93,322\n",
      "Trainable params: 93,322\n",
      "Non-trainable params: 0\n",
      "_________________________________________________________________\n"
     ]
    }
   ],
   "source": [
    "# first layer - convolutional \n",
    "# 32 - filter maps\n",
    "# (3,3) - filter map dimension\n",
    "classifier.add(Conv2D(32,(3,3), input_shape=(28,28,1), activation='relu'))\n",
    "classifier.add(MaxPooling2D(pool_size=(2,2)))\n",
    "classifier.add(Conv2D(64,(3,3), input_shape=(28,28,1), activation='relu'))\n",
    "classifier.add(MaxPooling2D(pool_size=(2,2)))\n",
    "classifier.add(Conv2D(64,(3,3),activation='relu',input_shape=(28,28,1)))\n",
    "classifier.add(Flatten())\n",
    "# Adding ANN layers\n",
    "classifier.add(Dense(units=64,activation=\"relu\"))\n",
    "# output layer\n",
    "classifier.add(Dense(units=10,activation=\"softmax\"))\n",
    "\n",
    "classifier.summary()"
   ]
  },
  {
   "cell_type": "code",
   "execution_count": 36,
   "metadata": {
    "id": "HLIbP-BCESgp"
   },
   "outputs": [],
   "source": [
    "# Compiling NN ,\n",
    "# categorical_crossentropy because here, we have multi-class-classification \n",
    "classifier.compile(optimizer=\"adam\",loss=\"categorical_crossentropy\", metrics=['accuracy'])"
   ]
  },
  {
   "cell_type": "code",
   "execution_count": 37,
   "metadata": {
    "colab": {
     "base_uri": "https://localhost:8080/"
    },
    "id": "NOdKcCjJESji",
    "outputId": "a00ada17-9237-47fd-cd73-4ea650649924"
   },
   "outputs": [
    {
     "name": "stdout",
     "output_type": "stream",
     "text": [
      "Epoch 1/20\n",
      "1563/1563 [==============================] - 44s 8ms/step - loss: 0.1661 - accuracy: 0.9484 - val_loss: 0.0637 - val_accuracy: 0.9813\n",
      "Epoch 2/20\n",
      "1563/1563 [==============================] - 12s 7ms/step - loss: 0.0497 - accuracy: 0.9845 - val_loss: 0.0467 - val_accuracy: 0.9865\n",
      "Epoch 3/20\n",
      "1563/1563 [==============================] - 12s 7ms/step - loss: 0.0359 - accuracy: 0.9887 - val_loss: 0.0391 - val_accuracy: 0.9894\n",
      "Epoch 4/20\n",
      "1563/1563 [==============================] - 11s 7ms/step - loss: 0.0265 - accuracy: 0.9912 - val_loss: 0.0478 - val_accuracy: 0.9864\n",
      "Epoch 5/20\n",
      "1563/1563 [==============================] - 12s 8ms/step - loss: 0.0220 - accuracy: 0.9929 - val_loss: 0.0298 - val_accuracy: 0.9909\n",
      "Epoch 6/20\n",
      "1563/1563 [==============================] - 11s 7ms/step - loss: 0.0175 - accuracy: 0.9941 - val_loss: 0.0389 - val_accuracy: 0.9894\n",
      "Epoch 7/20\n",
      "1563/1563 [==============================] - 12s 7ms/step - loss: 0.0147 - accuracy: 0.9951 - val_loss: 0.0302 - val_accuracy: 0.9914\n",
      "Epoch 8/20\n",
      "1563/1563 [==============================] - 12s 7ms/step - loss: 0.0120 - accuracy: 0.9959 - val_loss: 0.0357 - val_accuracy: 0.9912\n",
      "Epoch 9/20\n",
      "1563/1563 [==============================] - 12s 7ms/step - loss: 0.0104 - accuracy: 0.9963 - val_loss: 0.0400 - val_accuracy: 0.9901\n",
      "Epoch 10/20\n",
      "1563/1563 [==============================] - 12s 7ms/step - loss: 0.0096 - accuracy: 0.9969 - val_loss: 0.0401 - val_accuracy: 0.9910\n",
      "Epoch 11/20\n",
      "1563/1563 [==============================] - 12s 7ms/step - loss: 0.0080 - accuracy: 0.9974 - val_loss: 0.0556 - val_accuracy: 0.9879\n",
      "Epoch 12/20\n",
      "1563/1563 [==============================] - 12s 7ms/step - loss: 0.0079 - accuracy: 0.9974 - val_loss: 0.0403 - val_accuracy: 0.9899\n",
      "Epoch 13/20\n",
      "1563/1563 [==============================] - 12s 7ms/step - loss: 0.0064 - accuracy: 0.9981 - val_loss: 0.0521 - val_accuracy: 0.9897\n",
      "Epoch 14/20\n",
      "1563/1563 [==============================] - 12s 7ms/step - loss: 0.0073 - accuracy: 0.9974 - val_loss: 0.0447 - val_accuracy: 0.9914\n",
      "Epoch 15/20\n",
      "1563/1563 [==============================] - 12s 7ms/step - loss: 0.0060 - accuracy: 0.9982 - val_loss: 0.0501 - val_accuracy: 0.9896\n",
      "Epoch 16/20\n",
      "1563/1563 [==============================] - 12s 7ms/step - loss: 0.0067 - accuracy: 0.9981 - val_loss: 0.0452 - val_accuracy: 0.9920\n",
      "Epoch 17/20\n",
      "1563/1563 [==============================] - 12s 7ms/step - loss: 0.0046 - accuracy: 0.9989 - val_loss: 0.0513 - val_accuracy: 0.9915\n",
      "Epoch 18/20\n",
      "1563/1563 [==============================] - 12s 7ms/step - loss: 0.0067 - accuracy: 0.9978 - val_loss: 0.0475 - val_accuracy: 0.9912\n",
      "Epoch 19/20\n",
      "1563/1563 [==============================] - 12s 7ms/step - loss: 0.0040 - accuracy: 0.9988 - val_loss: 0.0610 - val_accuracy: 0.9893\n",
      "Epoch 20/20\n",
      "1563/1563 [==============================] - 12s 7ms/step - loss: 0.0061 - accuracy: 0.9983 - val_loss: 0.0596 - val_accuracy: 0.9892\n"
     ]
    }
   ],
   "source": [
    "history=classifier.fit(X_new_train,y_new_train, epochs=20,validation_data=(val_X,val_y))"
   ]
  },
  {
   "cell_type": "code",
   "execution_count": null,
   "metadata": {
    "id": "KiYtkO1ESFIB"
   },
   "outputs": [],
   "source": [
    "# Once we find the Exact hyperparameter(i,.e Upto how many epochs the training \n",
    "# accuracy and the validation accuracy is increasing then afterward we need to \n",
    "# Train Our Model on all training data)."
   ]
  },
  {
   "cell_type": "code",
   "execution_count": 38,
   "metadata": {
    "id": "rBIzxCnNESmS"
   },
   "outputs": [],
   "source": [
    "acc=history.history['accuracy']\n",
    "val_acc=history.history['val_accuracy']\n",
    "loss=history.history['loss']\n",
    "val_loss=history.history['val_loss']"
   ]
  },
  {
   "cell_type": "code",
   "execution_count": 39,
   "metadata": {
    "id": "yI_9db6vHR-C"
   },
   "outputs": [],
   "source": [
    "plt.style.use(\"seaborn\")"
   ]
  },
  {
   "cell_type": "code",
   "execution_count": 40,
   "metadata": {
    "colab": {
     "base_uri": "https://localhost:8080/",
     "height": 347
    },
    "id": "KBL0QhRmHSBX",
    "outputId": "4bfecce4-8de0-41f5-b4f4-a6d8bfc9531f"
   },
   "outputs": [
    {
     "data": {
      "image/png": "[encoded data removed]",
      "text/plain": [
       "<Figure size 576x396 with 1 Axes>"
      ]
     },
     "metadata": {},
     "output_type": "display_data"
    }
   ],
   "source": [
    "plt.plot(acc,label=\"accuracy\")\n",
    "plt.plot(val_acc,label=\"val_accuracy\")\n",
    "plt.plot(loss,label=\"loss\")\n",
    "plt.plot(val_loss,label=\"val_loss\")\n",
    "plt.legend()\n",
    "plt.show()"
   ]
  },
  {
   "cell_type": "code",
   "execution_count": 41,
   "metadata": {
    "id": "tOFMFCiYHSEq"
   },
   "outputs": [],
   "source": [
    "y_pred = classifier.predict(X_test)"
   ]
  },
  {
   "cell_type": "code",
   "execution_count": 42,
   "metadata": {
    "colab": {
     "base_uri": "https://localhost:8080/"
    },
    "id": "jZxoZmrxFbQh",
    "outputId": "d11c69fd-64cf-4f54-b475-10f5283757c1"
   },
   "outputs": [
    {
     "name": "stdout",
     "output_type": "stream",
     "text": [
      "(10000, 10)\n"
     ]
    }
   ],
   "source": [
    "print(y_pred.shape)"
   ]
  },
  {
   "cell_type": "code",
   "execution_count": 44,
   "metadata": {
    "colab": {
     "base_uri": "https://localhost:8080/"
    },
    "id": "nRO6CtH5H4n-",
    "outputId": "430271cc-6055-4548-da4b-55cd46935df8"
   },
   "outputs": [
    {
     "data": {
      "text/plain": [
       "7"
      ]
     },
     "execution_count": 44,
     "metadata": {},
     "output_type": "execute_result"
    }
   ],
   "source": [
    "# Probabiities for all the classes (0,1,2,....,9)\n",
    "y_pred[0]"
   ]
  },
  {
   "cell_type": "code",
   "execution_count": 43,
   "metadata": {
    "id": "QNK-To1TIBlm"
   },
   "outputs": [],
   "source": [
    "# Taking maximum probabilty \n",
    "y_pred = [x.argmax() for x in y_pred]"
   ]
  },
  {
   "cell_type": "code",
   "execution_count": 45,
   "metadata": {
    "id": "f769iZeeIFib"
   },
   "outputs": [],
   "source": [
    "y_pred=np.array(y_pred)"
   ]
  },
  {
   "cell_type": "code",
   "execution_count": 46,
   "metadata": {
    "colab": {
     "base_uri": "https://localhost:8080/"
    },
    "id": "EZFctB8IIHkj",
    "outputId": "4c6abaf7-7033-4f78-8986-ef508ea2fbc4"
   },
   "outputs": [
    {
     "name": "stdout",
     "output_type": "stream",
     "text": [
      "(10000,)\n",
      "(10000,)\n"
     ]
    }
   ],
   "source": [
    "print(y_pred.shape)\n",
    "print(y_test.shape)"
   ]
  },
  {
   "cell_type": "code",
   "execution_count": 47,
   "metadata": {
    "colab": {
     "base_uri": "https://localhost:8080/"
    },
    "id": "JY8cW4JEIUWX",
    "outputId": "5eca1cde-12d5-45bf-d77c-c4cff6e3e184"
   },
   "outputs": [
    {
     "name": "stdout",
     "output_type": "stream",
     "text": [
      "99.03999999999999\n"
     ]
    }
   ],
   "source": [
    "## Test Accuracy\n",
    "acc=np.sum((y_pred==y_test))/y_test.shape[0]\n",
    "print(acc*100)"
   ]
  },
  {
   "cell_type": "code",
   "execution_count": 48,
   "metadata": {
    "id": "erD-doBfJhlE"
   },
   "outputs": [],
   "source": [
    "from sklearn.metrics import confusion_matrix , accuracy_score , classification_report , f1_score"
   ]
  },
  {
   "cell_type": "code",
   "execution_count": 49,
   "metadata": {
    "colab": {
     "base_uri": "https://localhost:8080/"
    },
    "id": "dhEOwna6J655",
    "outputId": "1ff30762-d0db-4d7d-ccc9-75b40ac6c645"
   },
   "outputs": [
    {
     "name": "stdout",
     "output_type": "stream",
     "text": [
      "Accuracy Score -  0.9904\n"
     ]
    }
   ],
   "source": [
    "print(\"Accuracy Score - \" ,accuracy_score(y_test,y_pred))"
   ]
  },
  {
   "cell_type": "code",
   "execution_count": 50,
   "metadata": {
    "colab": {
     "base_uri": "https://localhost:8080/"
    },
    "id": "OO17CQxlJ9TC",
    "outputId": "c339cebc-a8ec-4f6a-950f-0300549db2c6"
   },
   "outputs": [
    {
     "name": "stdout",
     "output_type": "stream",
     "text": [
      "----Confusion Matrix----\n",
      "[[ 978    0    0    0    0    0    0    1    1    0]\n",
      " [   0 1134    0    1    0    0    0    0    0    0]\n",
      " [   0    2 1014    3    5    0    0    7    1    0]\n",
      " [   0    0    1 1009    0    0    0    0    0    0]\n",
      " [   0    1    0    0  975    0    1    0    0    5]\n",
      " [   1    1    0   15    0  871    1    0    1    2]\n",
      " [   7    2    0    0    1    2  944    0    2    0]\n",
      " [   1    3    0    2    0    0    0 1020    0    2]\n",
      " [   2    0    0    0    1    0    0    1  966    4]\n",
      " [   2    0    0    4    6    3    0    1    0  993]]\n"
     ]
    }
   ],
   "source": [
    "print(\"----Confusion Matrix----\")\n",
    "print(confusion_matrix(y_test,y_pred))"
   ]
  },
  {
   "cell_type": "code",
   "execution_count": 57,
   "metadata": {
    "colab": {
     "base_uri": "https://localhost:8080/",
     "height": 599
    },
    "id": "iDKucGS0MFu3",
    "outputId": "e8ecba8d-8e42-4b59-88c7-d168cd5a658b"
   },
   "outputs": [
    {
     "data": {
      "image/png": "[encoded data removed]",
      "text/plain": [
       "<Figure size 576x576 with 2 Axes>"
      ]
     },
     "metadata": {},
     "output_type": "display_data"
    }
   ],
   "source": [
    "import seaborn as sns\n",
    "\n",
    "figure = plt.figure(figsize=(8, 8))\n",
    "\n",
    "sns.heatmap(confusion_matrix(y_test,y_pred), annot=True,cmap=plt.cm.Blues)\n",
    "plt.tight_layout()\n",
    "plt.ylabel('True label')\n",
    "plt.xlabel('Predicted label')\n",
    "plt.show()"
   ]
  },
  {
   "cell_type": "code",
   "execution_count": 51,
   "metadata": {
    "colab": {
     "base_uri": "https://localhost:8080/"
    },
    "id": "R3HC5lICKCKr",
    "outputId": "9f3f8ea6-5f83-4127-cce0-a273654864a3"
   },
   "outputs": [
    {
     "name": "stdout",
     "output_type": "stream",
     "text": [
      "              precision    recall  f1-score   support\n",
      "\n",
      "           0       0.99      1.00      0.99       980\n",
      "           1       0.99      1.00      1.00      1135\n",
      "           2       1.00      0.98      0.99      1032\n",
      "           3       0.98      1.00      0.99      1010\n",
      "           4       0.99      0.99      0.99       982\n",
      "           5       0.99      0.98      0.99       892\n",
      "           6       1.00      0.99      0.99       958\n",
      "           7       0.99      0.99      0.99      1028\n",
      "           8       0.99      0.99      0.99       974\n",
      "           9       0.99      0.98      0.99      1009\n",
      "\n",
      "    accuracy                           0.99     10000\n",
      "   macro avg       0.99      0.99      0.99     10000\n",
      "weighted avg       0.99      0.99      0.99     10000\n",
      "\n"
     ]
    }
   ],
   "source": [
    "print(classification_report(y_test,y_pred))"
   ]
  },
  {
   "cell_type": "code",
   "execution_count": null,
   "metadata": {
    "id": "PylZCEZfLDhq"
   },
   "outputs": [],
   "source": [
    "#classifier.evaluate(X_test,y_test)"
   ]
  },
  {
   "cell_type": "code",
   "execution_count": 52,
   "metadata": {
    "colab": {
     "base_uri": "https://localhost:8080/"
    },
    "id": "ZxYfda6PKGy2",
    "outputId": "79b60155-c3e2-40f7-9e32-9fa3267eb594"
   },
   "outputs": [
    {
     "name": "stdout",
     "output_type": "stream",
     "text": [
      "(10000, 28, 28, 1)\n"
     ]
    }
   ],
   "source": [
    "print(X_test.shape)"
   ]
  },
  {
   "cell_type": "code",
   "execution_count": 53,
   "metadata": {
    "colab": {
     "base_uri": "https://localhost:8080/",
     "height": 364
    },
    "id": "Swg_GtBoKJ8C",
    "outputId": "2c067b3b-d640-47e4-81bf-d896aef446b3"
   },
   "outputs": [
    {
     "data": {
      "text/plain": [
       "<matplotlib.image.AxesImage at 0x7fb5b22ef710>"
      ]
     },
     "execution_count": 53,
     "metadata": {},
     "output_type": "execute_result"
    },
    {
     "data": {
      "image/png": "[encoded data removed]",
      "text/plain": [
       "<Figure size 576x396 with 1 Axes>"
      ]
     },
     "metadata": {},
     "output_type": "display_data"
    }
   ],
   "source": [
    "plt.imshow(X_test[888].reshape(28,28), cmap=\"gray\")"
   ]
  },
  {
   "cell_type": "code",
   "execution_count": 54,
   "metadata": {
    "id": "vLtP0HpJKoZJ"
   },
   "outputs": [],
   "source": [
    "pred = classifier.predict(X_test[888].reshape(1,28,28,1))"
   ]
  },
  {
   "cell_type": "code",
   "execution_count": 55,
   "metadata": {
    "colab": {
     "base_uri": "https://localhost:8080/"
    },
    "id": "XP9YQ00zK6CY",
    "outputId": "677f656d-56ef-4535-d5e1-c177309b2153"
   },
   "outputs": [
    {
     "name": "stdout",
     "output_type": "stream",
     "text": [
      "Predicted : -  2\n",
      "Actual :-  2\n"
     ]
    }
   ],
   "source": [
    "print(\"Predicted : - \" , pred.argmax())\n",
    "print(\"Actual :- \", y_test[888])"
   ]
  },
  {
   "cell_type": "code",
   "execution_count": null,
   "metadata": {
    "id": "G2dm25r_K9No"
   },
   "outputs": [],
   "source": []
  }
 ],
 "metadata": {
  "accelerator": "GPU",
  "colab": {
   "name": "MNIST_Hand_Written_Digit(CNN).ipynb",
   "provenance": []
  },
  "kernelspec": {
   "display_name": "Python 3",
   "language": "python",
   "name": "python3"
  },
  "language_info": {
   "codemirror_mode": {
    "name": "ipython",
    "version": 3
   },
   "file_extension": ".py",
   "mimetype": "text/x-python",
   "name": "python",
   "nbconvert_exporter": "python",
   "pygments_lexer": "ipython3",
   "version": "3.6.12"
  }
 },
 "nbformat": 4,
 "nbformat_minor": 1
}
